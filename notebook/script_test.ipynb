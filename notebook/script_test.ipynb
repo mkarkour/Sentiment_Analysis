{
 "cells": [
  {
   "cell_type": "code",
   "execution_count": 7,
   "metadata": {},
   "outputs": [
    {
     "name": "stdout",
     "output_type": "stream",
     "text": [
      "{'App ID': 'Jlx6kOpN', 'Client ID': 'dj0yJmk9Y2thT29Rc1g4VEhmJmQ9WVdrOVNteDRObXRQY0U0bWNHbzlNQT09JnM9Y29uc3VtZXJzZWNyZXQmc3Y9MCZ4PTc1', 'Client Secret': '7d49765ae80b6c6035a60710f6cffe5de2afeb91'}\n"
     ]
    }
   ],
   "source": [
    "import yaml\n",
    "\n",
    "with open(r\"C:\\Users\\karme\\Sentiment_Analysis\\credentials.yaml\",'r') as f:\n",
    "        credentials = yaml.load(f,Loader=yaml.FullLoader)\n",
    "        print(credentials['YAHOO'])"
   ]
  }
 ],
 "metadata": {
  "kernelspec": {
   "display_name": "Python 3",
   "language": "python",
   "name": "python3"
  },
  "language_info": {
   "codemirror_mode": {
    "name": "ipython",
    "version": 3
   },
   "file_extension": ".py",
   "mimetype": "text/x-python",
   "name": "python",
   "nbconvert_exporter": "python",
   "pygments_lexer": "ipython3",
   "version": "3.10.11"
  }
 },
 "nbformat": 4,
 "nbformat_minor": 2
}
