{
 "cells": [
  {
   "cell_type": "markdown",
   "metadata": {},
   "source": [
    "## EDA\n",
    "The aim of this notebook is to provide an exploratory analysis of the data to enable a better understanding of it.\n",
    "\n",
    "Table of contents:\n",
    "1. Business Understanding\n",
    "2. Data Understanding\n",
    "3. Data Preparation \n",
    "(dealing with missing values, outliers, duplicates values,transformation categorical variables into numeric variables, resampling (under/ovr))\n",
    "4. Modeling\n",
    "(model engineering, feature selection, evaluation)\n",
    "5. Conclusion\n",
    "6. Deployment"
   ]
  }
 ],
 "metadata": {
  "language_info": {
   "name": "python"
  }
 },
 "nbformat": 4,
 "nbformat_minor": 2
}
